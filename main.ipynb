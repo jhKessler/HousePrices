{
 "metadata": {
  "language_info": {
   "codemirror_mode": {
    "name": "ipython",
    "version": 3
   },
   "file_extension": ".py",
   "mimetype": "text/x-python",
   "name": "python",
   "nbconvert_exporter": "python",
   "pygments_lexer": "ipython3",
   "version": "3.8.5-final"
  },
  "orig_nbformat": 2,
  "kernelspec": {
   "name": "python3",
   "display_name": "Python 3.8.5 64-bit (conda)",
   "metadata": {
    "interpreter": {
     "hash": "af5b9358f624b7a10e69b5311cbd31159d36e52e31ed36b18bb11cfc0c99bfa2"
    }
   }
  }
 },
 "nbformat": 4,
 "nbformat_minor": 2,
 "cells": [
  {
   "cell_type": "code",
   "execution_count": 1,
   "metadata": {},
   "outputs": [],
   "source": [
    "import os\n",
    "import pandas as pd\n",
    "import numpy as np\n",
    "import xgboost as xgb\n",
    "from sklearn.model_selection import cross_validate, train_test_split\n",
    "from sklearn.preprocessing import LabelEncoder\n",
    "from sklearn.metrics import mean_squared_error\n",
    "from sklearn.linear_model import LinearRegression\n",
    "from tqdm import tqdm"
   ]
  },
  {
   "cell_type": "code",
   "execution_count": 2,
   "metadata": {},
   "outputs": [],
   "source": [
    "# load train data\n",
    "X = pd.read_csv(\"train.csv\", index_col=\"Id\")\n",
    "y = X.pop(\"SalePrice\")\n",
    "# load test data\n",
    "test = pd.read_csv(\"test.csv\", index_col=\"Id\")"
   ]
  },
  {
   "cell_type": "code",
   "execution_count": 3,
   "metadata": {},
   "outputs": [],
   "source": [
    "def create_encoders(df):\n",
    "    \"\"\"Creates Dictionary with trained Labelencoder for every column\"\"\"\n",
    "    encoder_dict = {}\n",
    "    for c in df.columns:\n",
    "        encoder_dict[c] = LabelEncoder().fit(df[c])\n",
    "    return encoder_dict\n",
    "\n",
    "def apply_encoders(df1, df2, encoder_dict):\n",
    "    \"\"\"Applies encoders to categorical columns of df\"\"\"\n",
    "    columns_to_drop = []\n",
    "    for c in tqdm(df1.columns):\n",
    "        try:\n",
    "            df1[c] = encoder_dict[c].transform(df1[c])\n",
    "            df2[c] = encoder_dict[c].transform(df2[c])\n",
    "        except (KeyError, ValueError):\n",
    "            print(f\"Unseen value in column {c} - dropping column\")\n",
    "            columns_to_drop.append(c)\n",
    "    df1.drop(columns_to_drop, axis=\"columns\", inplace=True)\n",
    "    df2.drop(columns_to_drop, axis=\"columns\", inplace=True)\n",
    "    return df1, df2"
   ]
  },
  {
   "cell_type": "code",
   "execution_count": 4,
   "metadata": {},
   "outputs": [
    {
     "output_type": "stream",
     "name": "stderr",
     "text": [
      "100%|██████████| 43/43 [00:00<00:00, 795.58it/s]Unseen value in column MSZoning - dropping column\n",
      "Unseen value in column Utilities - dropping column\n",
      "Unseen value in column Exterior1st - dropping column\n",
      "Unseen value in column Exterior2nd - dropping column\n",
      "Unseen value in column KitchenQual - dropping column\n",
      "Unseen value in column Functional - dropping column\n",
      "Unseen value in column SaleType - dropping column\n",
      "\n"
     ]
    }
   ],
   "source": [
    "# get all columns with categorical data\n",
    "columns_to_encode = []\n",
    "for c in X.columns:\n",
    "    if X[c].dtype not in [\"int64\", \"float64\"]:\n",
    "        columns_to_encode.append(c)\n",
    "# create df with just the columns from above\n",
    "categorical_data_train = X[columns_to_encode].astype(\"str\")\n",
    "categorical_data_test = test[columns_to_encode].astype(\"str\")\n",
    "# create encoder for each categorical column\n",
    "encoder_dict = create_encoders(categorical_data_train)\n",
    "# apply encoders to train and test data\n",
    "categorical_data_train, categorical_data_test = apply_encoders(categorical_data_train, categorical_data_test, encoder_dict)"
   ]
  },
  {
   "cell_type": "code",
   "execution_count": 5,
   "metadata": {},
   "outputs": [],
   "source": [
    "# add encoded categorical data to train df\n",
    "X.drop(columns_to_encode, axis=\"columns\", inplace=True)\n",
    "X = pd.concat([X, categorical_data_train], axis=\"columns\")\n",
    "X.fillna(0, inplace=True)\n",
    "# add encoded categorical data to test df\n",
    "test.drop(columns_to_encode, axis=\"columns\", inplace=True)\n",
    "test = pd.concat([test, categorical_data_test], axis=\"columns\")\n",
    "test.fillna(0, inplace=True)\n",
    "\n",
    "# split into train and test\n",
    "X_train, X_test, y_train, y_test = train_test_split(X.values, y.values, test_size=0.2, shuffle=True)"
   ]
  },
  {
   "cell_type": "code",
   "execution_count": 6,
   "metadata": {},
   "outputs": [],
   "source": [
    "def rmsle(predt, dtrain):\n",
    "    ''' Root mean squared log error metric.'''\n",
    "    y = dtrain.get_label()\n",
    "    predt[predt < -1] = -1 + 1e-6\n",
    "    elements = np.power(np.log1p(y) - np.log1p(predt), 2)\n",
    "    return 'PyRMSLE', float(np.sqrt(np.sum(elements) / len(y)))"
   ]
  },
  {
   "cell_type": "code",
   "execution_count": 7,
   "metadata": {
    "tags": []
   },
   "outputs": [
    {
     "output_type": "stream",
     "name": "stdout",
     "text": [
      "[0]\tvalidation_0-rmse:169040.59375\tvalidation_0-PyRMSLE:2.30161\n",
      "[1]\tvalidation_0-rmse:152717.89062\tvalidation_0-PyRMSLE:1.65999\n",
      "[2]\tvalidation_0-rmse:138128.51562\tvalidation_0-PyRMSLE:1.30909\n",
      "[3]\tvalidation_0-rmse:124945.98438\tvalidation_0-PyRMSLE:1.07102\n",
      "[4]\tvalidation_0-rmse:113251.04688\tvalidation_0-PyRMSLE:0.90050\n",
      "[5]\tvalidation_0-rmse:102326.39062\tvalidation_0-PyRMSLE:0.76435\n",
      "[6]\tvalidation_0-rmse:92602.57812\tvalidation_0-PyRMSLE:0.65803\n",
      "[7]\tvalidation_0-rmse:84084.70312\tvalidation_0-PyRMSLE:0.57198\n",
      "[8]\tvalidation_0-rmse:76572.90625\tvalidation_0-PyRMSLE:0.50252\n",
      "[9]\tvalidation_0-rmse:69695.18750\tvalidation_0-PyRMSLE:0.44404\n",
      "[10]\tvalidation_0-rmse:63679.85156\tvalidation_0-PyRMSLE:0.39511\n",
      "[11]\tvalidation_0-rmse:58301.75781\tvalidation_0-PyRMSLE:0.35454\n",
      "[12]\tvalidation_0-rmse:53419.26172\tvalidation_0-PyRMSLE:0.31880\n",
      "[13]\tvalidation_0-rmse:49253.82031\tvalidation_0-PyRMSLE:0.28948\n",
      "[14]\tvalidation_0-rmse:45439.06641\tvalidation_0-PyRMSLE:0.26391\n",
      "[15]\tvalidation_0-rmse:42078.66016\tvalidation_0-PyRMSLE:0.24216\n",
      "[16]\tvalidation_0-rmse:39307.58594\tvalidation_0-PyRMSLE:0.22427\n",
      "[17]\tvalidation_0-rmse:36654.82812\tvalidation_0-PyRMSLE:0.20884\n",
      "[18]\tvalidation_0-rmse:34404.33203\tvalidation_0-PyRMSLE:0.19568\n",
      "[19]\tvalidation_0-rmse:32463.87305\tvalidation_0-PyRMSLE:0.18506\n",
      "[20]\tvalidation_0-rmse:30760.64062\tvalidation_0-PyRMSLE:0.17588\n",
      "[21]\tvalidation_0-rmse:29304.73633\tvalidation_0-PyRMSLE:0.16800\n",
      "[22]\tvalidation_0-rmse:27897.65234\tvalidation_0-PyRMSLE:0.16124\n",
      "[23]\tvalidation_0-rmse:26782.14062\tvalidation_0-PyRMSLE:0.15625\n",
      "[24]\tvalidation_0-rmse:25798.14258\tvalidation_0-PyRMSLE:0.15147\n",
      "[25]\tvalidation_0-rmse:24988.51953\tvalidation_0-PyRMSLE:0.14814\n",
      "[26]\tvalidation_0-rmse:24184.80859\tvalidation_0-PyRMSLE:0.14420\n",
      "[27]\tvalidation_0-rmse:23596.74609\tvalidation_0-PyRMSLE:0.14147\n",
      "[28]\tvalidation_0-rmse:23165.52539\tvalidation_0-PyRMSLE:0.13971\n",
      "[29]\tvalidation_0-rmse:22796.98047\tvalidation_0-PyRMSLE:0.13802\n",
      "[30]\tvalidation_0-rmse:22388.42969\tvalidation_0-PyRMSLE:0.13633\n",
      "[31]\tvalidation_0-rmse:22130.63672\tvalidation_0-PyRMSLE:0.13528\n",
      "[32]\tvalidation_0-rmse:21819.30273\tvalidation_0-PyRMSLE:0.13402\n",
      "[33]\tvalidation_0-rmse:21610.33008\tvalidation_0-PyRMSLE:0.13296\n",
      "[34]\tvalidation_0-rmse:21450.36328\tvalidation_0-PyRMSLE:0.13207\n",
      "[35]\tvalidation_0-rmse:21267.11719\tvalidation_0-PyRMSLE:0.13126\n",
      "[36]\tvalidation_0-rmse:21198.63086\tvalidation_0-PyRMSLE:0.13077\n",
      "[37]\tvalidation_0-rmse:21155.62305\tvalidation_0-PyRMSLE:0.13029\n",
      "[38]\tvalidation_0-rmse:21095.36133\tvalidation_0-PyRMSLE:0.13010\n",
      "[39]\tvalidation_0-rmse:21023.82617\tvalidation_0-PyRMSLE:0.12991\n",
      "[40]\tvalidation_0-rmse:20980.65625\tvalidation_0-PyRMSLE:0.12957\n",
      "[41]\tvalidation_0-rmse:20977.78906\tvalidation_0-PyRMSLE:0.12925\n",
      "[42]\tvalidation_0-rmse:20898.41992\tvalidation_0-PyRMSLE:0.12895\n",
      "[43]\tvalidation_0-rmse:20857.49023\tvalidation_0-PyRMSLE:0.12873\n",
      "[44]\tvalidation_0-rmse:20842.61719\tvalidation_0-PyRMSLE:0.12817\n",
      "[45]\tvalidation_0-rmse:20847.23242\tvalidation_0-PyRMSLE:0.12833\n",
      "[46]\tvalidation_0-rmse:20767.32031\tvalidation_0-PyRMSLE:0.12765\n",
      "[47]\tvalidation_0-rmse:20730.58789\tvalidation_0-PyRMSLE:0.12749\n",
      "[48]\tvalidation_0-rmse:20736.84180\tvalidation_0-PyRMSLE:0.12735\n",
      "[49]\tvalidation_0-rmse:20733.95312\tvalidation_0-PyRMSLE:0.12731\n",
      "[50]\tvalidation_0-rmse:20788.46680\tvalidation_0-PyRMSLE:0.12735\n",
      "[51]\tvalidation_0-rmse:20750.33008\tvalidation_0-PyRMSLE:0.12717\n",
      "[52]\tvalidation_0-rmse:20743.60938\tvalidation_0-PyRMSLE:0.12697\n",
      "[53]\tvalidation_0-rmse:20769.40820\tvalidation_0-PyRMSLE:0.12688\n",
      "[54]\tvalidation_0-rmse:20767.25391\tvalidation_0-PyRMSLE:0.12669\n",
      "[55]\tvalidation_0-rmse:20730.32812\tvalidation_0-PyRMSLE:0.12644\n",
      "[56]\tvalidation_0-rmse:20709.92773\tvalidation_0-PyRMSLE:0.12625\n",
      "[57]\tvalidation_0-rmse:20686.79688\tvalidation_0-PyRMSLE:0.12590\n",
      "[58]\tvalidation_0-rmse:20702.12500\tvalidation_0-PyRMSLE:0.12585\n",
      "[59]\tvalidation_0-rmse:20689.89844\tvalidation_0-PyRMSLE:0.12568\n",
      "[60]\tvalidation_0-rmse:20670.55273\tvalidation_0-PyRMSLE:0.12543\n",
      "[61]\tvalidation_0-rmse:20681.45898\tvalidation_0-PyRMSLE:0.12538\n",
      "[62]\tvalidation_0-rmse:20664.99805\tvalidation_0-PyRMSLE:0.12534\n",
      "[63]\tvalidation_0-rmse:20658.25781\tvalidation_0-PyRMSLE:0.12521\n",
      "[64]\tvalidation_0-rmse:20695.17773\tvalidation_0-PyRMSLE:0.12528\n",
      "[65]\tvalidation_0-rmse:20701.33594\tvalidation_0-PyRMSLE:0.12520\n",
      "[66]\tvalidation_0-rmse:20712.71289\tvalidation_0-PyRMSLE:0.12521\n",
      "[67]\tvalidation_0-rmse:20707.51367\tvalidation_0-PyRMSLE:0.12510\n",
      "[68]\tvalidation_0-rmse:20712.30664\tvalidation_0-PyRMSLE:0.12511\n",
      "[69]\tvalidation_0-rmse:20730.04102\tvalidation_0-PyRMSLE:0.12518\n",
      "[70]\tvalidation_0-rmse:20741.55859\tvalidation_0-PyRMSLE:0.12514\n",
      "[71]\tvalidation_0-rmse:20747.42188\tvalidation_0-PyRMSLE:0.12515\n",
      "[72]\tvalidation_0-rmse:20718.53711\tvalidation_0-PyRMSLE:0.12501\n",
      "[73]\tvalidation_0-rmse:20708.25781\tvalidation_0-PyRMSLE:0.12493\n",
      "[74]\tvalidation_0-rmse:20681.04883\tvalidation_0-PyRMSLE:0.12469\n",
      "[75]\tvalidation_0-rmse:20689.08008\tvalidation_0-PyRMSLE:0.12472\n",
      "[76]\tvalidation_0-rmse:20695.51562\tvalidation_0-PyRMSLE:0.12481\n",
      "[77]\tvalidation_0-rmse:20675.76953\tvalidation_0-PyRMSLE:0.12465\n",
      "[78]\tvalidation_0-rmse:20688.48438\tvalidation_0-PyRMSLE:0.12466\n",
      "[79]\tvalidation_0-rmse:20702.71484\tvalidation_0-PyRMSLE:0.12452\n",
      "[80]\tvalidation_0-rmse:20754.85742\tvalidation_0-PyRMSLE:0.12460\n",
      "[81]\tvalidation_0-rmse:20724.26367\tvalidation_0-PyRMSLE:0.12438\n",
      "[82]\tvalidation_0-rmse:20736.07812\tvalidation_0-PyRMSLE:0.12445\n",
      "[83]\tvalidation_0-rmse:20745.31641\tvalidation_0-PyRMSLE:0.12423\n",
      "[84]\tvalidation_0-rmse:20736.58789\tvalidation_0-PyRMSLE:0.12424\n",
      "[85]\tvalidation_0-rmse:20727.28516\tvalidation_0-PyRMSLE:0.12414\n",
      "[86]\tvalidation_0-rmse:20742.65234\tvalidation_0-PyRMSLE:0.12417\n",
      "[87]\tvalidation_0-rmse:20750.82617\tvalidation_0-PyRMSLE:0.12412\n",
      "[88]\tvalidation_0-rmse:20748.27930\tvalidation_0-PyRMSLE:0.12411\n",
      "[89]\tvalidation_0-rmse:20742.47266\tvalidation_0-PyRMSLE:0.12405\n",
      "[90]\tvalidation_0-rmse:20743.35156\tvalidation_0-PyRMSLE:0.12410\n",
      "[91]\tvalidation_0-rmse:20755.37695\tvalidation_0-PyRMSLE:0.12410\n",
      "[92]\tvalidation_0-rmse:20737.71484\tvalidation_0-PyRMSLE:0.12400\n",
      "[93]\tvalidation_0-rmse:20790.24219\tvalidation_0-PyRMSLE:0.12423\n",
      "[94]\tvalidation_0-rmse:20801.81055\tvalidation_0-PyRMSLE:0.12423\n",
      "[95]\tvalidation_0-rmse:20782.00586\tvalidation_0-PyRMSLE:0.12391\n",
      "[96]\tvalidation_0-rmse:20759.06250\tvalidation_0-PyRMSLE:0.12362\n",
      "[97]\tvalidation_0-rmse:20771.44141\tvalidation_0-PyRMSLE:0.12368\n",
      "[98]\tvalidation_0-rmse:20775.43555\tvalidation_0-PyRMSLE:0.12379\n",
      "[99]\tvalidation_0-rmse:20786.90234\tvalidation_0-PyRMSLE:0.12379\n",
      "[100]\tvalidation_0-rmse:20796.65430\tvalidation_0-PyRMSLE:0.12378\n",
      "Training finished\n"
     ]
    }
   ],
   "source": [
    "model = xgb.XGBRegressor(\n",
    "    max_depth=5,\n",
    "    n_estimators=1000,\n",
    "    min_child_weight=0.5, \n",
    "    eta=0.1,\n",
    "    seed=42)\n",
    "\n",
    "model.fit(\n",
    "    X_train, \n",
    "    y_train, \n",
    "    eval_metric=rmsle, \n",
    "    eval_set=[(X_test, y_test)], \n",
    "    verbose=True, \n",
    "    early_stopping_rounds=5)\n",
    "print(\"Training finished\")"
   ]
  },
  {
   "cell_type": "code",
   "execution_count": 8,
   "metadata": {},
   "outputs": [],
   "source": [
    "predictions = model.predict(test.values)\n",
    "submission = pd.read_csv(\"sample_submission.csv\", index_col=\"Id\")\n",
    "submission[\"SalePrice\"] = predictions\n",
    "submission.to_csv(\"submission.csv\")"
   ]
  }
 ]
}